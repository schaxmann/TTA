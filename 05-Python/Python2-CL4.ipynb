{
 "cells": [
  {
   "cell_type": "code",
   "execution_count": 1,
   "metadata": {},
   "outputs": [
    {
     "name": "stdout",
     "output_type": "stream",
     "text": [
      "['apple', 'orange', 'pear']\n",
      "orange\n"
     ]
    }
   ],
   "source": [
    "# a)\n",
    "\n",
    "fruitList = [\"apple\", \"orange\", \"pear\"]\n",
    "\n",
    "# 1)\n",
    "\n",
    "print(fruitList)\n",
    "\n",
    "# 2)\n",
    "print(fruitList[1])\n"
   ]
  },
  {
   "cell_type": "code",
   "execution_count": 10,
   "metadata": {},
   "outputs": [
    {
     "name": "stdout",
     "output_type": "stream",
     "text": [
      "{'pear', 'orange', 'apple'}\n",
      "{'pear', 'banana', 'orange', 'apple'}\n",
      "{'pear', 'banana', 'orange', 'apple'}\n"
     ]
    }
   ],
   "source": [
    "# b)\n",
    "\n",
    "fruitSet = {\"apple\", \"orange\", \"pear\"}\n",
    "\n",
    "# 1)\n",
    "\n",
    "print(fruitSet)\n",
    "\n",
    "# 2)\n",
    "\n",
    "fruitSet.add(\"banana\")\n",
    "\n",
    "# 3)\n",
    "\n",
    "print(fruitSet)\n",
    "\n",
    "# 4)\n",
    "\n",
    "fruitSet.add(\"apple\")\n",
    "\n",
    "# 5)\n",
    "\n",
    "print(fruitSet)"
   ]
  },
  {
   "cell_type": "code",
   "execution_count": 16,
   "metadata": {},
   "outputs": [
    {
     "name": "stdout",
     "output_type": "stream",
     "text": [
      "dict_keys(['pear', 'orange', 'apple'])\n",
      "pear\n",
      "orange\n",
      "apple\n",
      "dict_values(['50p', '£1.00', '30p'])\n",
      "{'pear': '50p', 'orange': '£1.00', 'apple': '30p', 'watermelon': '£3.00'}\n"
     ]
    }
   ],
   "source": [
    "# c)\n",
    "\n",
    "fruitDictionary = {\n",
    "  \"pear\": \"50p\",\n",
    "  \"orange\": \"£1.00\",\n",
    "  \"apple\": \"30p\",\n",
    "}\n",
    "\n",
    "# 1)\n",
    "\n",
    "print(fruitDictionary.keys())\n",
    "\n",
    "# Or can be completed with a loop as follows: \n",
    "\n",
    "for fruit in fruitDictionary:\n",
    "    print(fruit)\n",
    "\n",
    "# 2)\n",
    "\n",
    "print(fruitDictionary.values())\n",
    "\n",
    "# 3)\n",
    "\n",
    "if \"watermelon\" in fruitDictionary:\n",
    "    print(fruitDictionary[\"watermelon\"])\n",
    "else:\n",
    "    fruitDictionary[\"watermelon\"] = \"£3.00\"\n",
    "\n",
    "print(fruitDictionary)"
   ]
  }
 ],
 "metadata": {
  "kernelspec": {
   "display_name": "Python 3.10.7 64-bit",
   "language": "python",
   "name": "python3"
  },
  "language_info": {
   "codemirror_mode": {
    "name": "ipython",
    "version": 3
   },
   "file_extension": ".py",
   "mimetype": "text/x-python",
   "name": "python",
   "nbconvert_exporter": "python",
   "pygments_lexer": "ipython3",
   "version": "3.10.7"
  },
  "orig_nbformat": 4,
  "vscode": {
   "interpreter": {
    "hash": "aee8b7b246df8f9039afb4144a1f6fd8d2ca17a180786b69acc140d282b71a49"
   }
  }
 },
 "nbformat": 4,
 "nbformat_minor": 2
}
