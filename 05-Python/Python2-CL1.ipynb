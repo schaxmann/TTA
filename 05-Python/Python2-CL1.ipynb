{
 "cells": [
  {
   "cell_type": "code",
   "execution_count": 30,
   "metadata": {},
   "outputs": [
    {
     "name": "stdout",
     "output_type": "stream",
     "text": [
      "Operator must be a string of '+', '-', '*' or '/'\n"
     ]
    }
   ],
   "source": [
    "# 1)\n",
    "\n",
    "# I know the question doesn't specifically call for a function but I wanted to early return when an exception was raised\n",
    "\n",
    "def calculator():\n",
    "    firstNumber = input('Pick your first number')\n",
    "    secondNumber = input('Pick your second number')\n",
    "    operator = input('Pick an operator')\n",
    "\n",
    "    try:\n",
    "        firstNumber = float(firstNumber)\n",
    "    except:\n",
    "        return print(\"First number must be must be a valid integer or float\")\n",
    "    try:\n",
    "        secondNumber = float(secondNumber)\n",
    "    except:\n",
    "        return print(\"Second number must be must be a valid integer or float\")\n",
    "\n",
    "    if operator == '+':\n",
    "        return print(firstNumber + secondNumber)\n",
    "    elif operator == '-':\n",
    "        return print(firstNumber - secondNumber)\n",
    "    elif operator == '*':\n",
    "        return print(firstNumber * secondNumber)\n",
    "    elif operator == '/':\n",
    "        return print(firstNumber / secondNumber)\n",
    "    else:\n",
    "        return print(\"Operator must be a string of '+', '-', '*' or '/'\")\n",
    "    \n",
    "calculator()"
   ]
  }
 ],
 "metadata": {
  "kernelspec": {
   "display_name": "Python 3.10.7 64-bit",
   "language": "python",
   "name": "python3"
  },
  "language_info": {
   "codemirror_mode": {
    "name": "ipython",
    "version": 3
   },
   "file_extension": ".py",
   "mimetype": "text/x-python",
   "name": "python",
   "nbconvert_exporter": "python",
   "pygments_lexer": "ipython3",
   "version": "3.10.7"
  },
  "orig_nbformat": 4,
  "vscode": {
   "interpreter": {
    "hash": "aee8b7b246df8f9039afb4144a1f6fd8d2ca17a180786b69acc140d282b71a49"
   }
  }
 },
 "nbformat": 4,
 "nbformat_minor": 2
}
