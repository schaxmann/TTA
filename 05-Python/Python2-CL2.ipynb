{
 "cells": [
  {
   "cell_type": "code",
   "execution_count": 16,
   "metadata": {},
   "outputs": [
    {
     "name": "stdout",
     "output_type": "stream",
     "text": [
      "I've got a joke about odd numbers.\n",
      "It's not even funny.\n",
      "How do you make seven an even number?\n",
      "Remove the 's'!\n",
      "There are 3 types of people in the world;\n",
      "Those who can count and those who can't.\n",
      "Number should be an integer between 1 & 100 (inclusive).\n",
      "Number should be an integer between 1 & 100 (inclusive).\n",
      "Number should be an integer between 1 & 100 (inclusive).\n"
     ]
    }
   ],
   "source": [
    "# 1)\n",
    "\n",
    "\"\"\"\n",
    " In converting the joke teller into a function I have removed the input prompt. The number is instead passed into the function as a parameter. However, the\n",
    " input could be reinstated and the function called with no parameters if a different implementation was required.\n",
    "\"\"\"\n",
    "\n",
    "def jokeTeller(number):\n",
    "    if 0 < number < 101 and type(number) == int:\n",
    "        if number % 3 == 0: # If multiple of 3\n",
    "            return print(\"There are 3 types of people in the world;\\nThose who can count and those who can't.\")\n",
    "        elif number % 2 == 0: # Not divisible by 3 and even\n",
    "            return print(\"How do you make seven an even number?\\nRemove the 's'!\")\n",
    "        else: # Not divisible by 3 and odd\n",
    "            return print(\"I've got a joke about odd numbers.\\nIt's not even funny.\")\n",
    "    else:\n",
    "        return print(\"Number should be an integer between 1 & 100 (inclusive).\")\n",
    "    \n",
    "jokeTeller(1)\n",
    "jokeTeller(2)\n",
    "jokeTeller(3)\n",
    "jokeTeller(0)\n",
    "jokeTeller(101)\n",
    "jokeTeller(3.3)"
   ]
  }
 ],
 "metadata": {
  "kernelspec": {
   "display_name": "Python 3.10.7 64-bit",
   "language": "python",
   "name": "python3"
  },
  "language_info": {
   "codemirror_mode": {
    "name": "ipython",
    "version": 3
   },
   "file_extension": ".py",
   "mimetype": "text/x-python",
   "name": "python",
   "nbconvert_exporter": "python",
   "pygments_lexer": "ipython3",
   "version": "3.10.7"
  },
  "orig_nbformat": 4,
  "vscode": {
   "interpreter": {
    "hash": "aee8b7b246df8f9039afb4144a1f6fd8d2ca17a180786b69acc140d282b71a49"
   }
  }
 },
 "nbformat": 4,
 "nbformat_minor": 2
}
