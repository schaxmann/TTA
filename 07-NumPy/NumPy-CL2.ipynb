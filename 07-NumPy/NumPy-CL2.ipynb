{
 "cells": [
  {
   "cell_type": "code",
   "execution_count": 3,
   "metadata": {},
   "outputs": [
    {
     "name": "stdout",
     "output_type": "stream",
     "text": [
      "add: [ 7  9 11 13 15] subtract: [-5 -5 -5 -5 -5] multiply: [ 6 14 24 36 50] divide: [0.16666667 0.28571429 0.375      0.44444444 0.5       ]\n",
      "rounded array: [1. 1. 2. 2.]\n",
      "true division: [1.5 3.  4.5 6. ]\n"
     ]
    }
   ],
   "source": [
    "import numpy as np\n",
    "\n",
    "#1\n",
    "\n",
    "arr1 = np.arange(1,6)\n",
    "arr2 = np.arange(6,11)\n",
    "\n",
    "add = np.add(arr1, arr2)\n",
    "subtract = np.subtract(arr1, arr2)\n",
    "multiply = np.multiply(arr1, arr2)\n",
    "divide = np.divide(arr1, arr2)\n",
    "\n",
    "print('add:', add, 'subtract:', subtract, 'multiply:', multiply, 'divide:', divide)\n",
    "\n",
    "#2\n",
    "\n",
    "arr3 = np.arange(1.2, 2.0, 0.2)\n",
    "arrRound = np.round(arr3)\n",
    "print('rounded array:', arrRound)\n",
    "\n",
    "#3\n",
    "\n",
    "arr4 = np.array([3, 6, 9, 12])\n",
    "trueDivide = np.true_divide(arr4, 2)\n",
    "print('true division:', trueDivide)"
   ]
  }
 ],
 "metadata": {
  "kernelspec": {
   "display_name": "Python 3.10.7 64-bit",
   "language": "python",
   "name": "python3"
  },
  "language_info": {
   "codemirror_mode": {
    "name": "ipython",
    "version": 3
   },
   "file_extension": ".py",
   "mimetype": "text/x-python",
   "name": "python",
   "nbconvert_exporter": "python",
   "pygments_lexer": "ipython3",
   "version": "3.10.7"
  },
  "orig_nbformat": 4,
  "vscode": {
   "interpreter": {
    "hash": "aee8b7b246df8f9039afb4144a1f6fd8d2ca17a180786b69acc140d282b71a49"
   }
  }
 },
 "nbformat": 4,
 "nbformat_minor": 2
}
