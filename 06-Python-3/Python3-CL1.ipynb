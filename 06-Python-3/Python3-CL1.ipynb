{
 "cells": [
  {
   "cell_type": "code",
   "execution_count": 23,
   "metadata": {},
   "outputs": [
    {
     "name": "stdout",
     "output_type": "stream",
     "text": [
      "£2000.00\n",
      "£1800.00\n",
      "£1620.00\n",
      "£1458.00\n",
      "£1312.20\n",
      "£1180.98\n",
      "£1062.88\n"
     ]
    }
   ],
   "source": [
    "def depreciation(value, annualPercentLoss):\n",
    "    while value > 1000:\n",
    "        print(f'£{format(value,\".2f\")}')\n",
    "        value *= 1-annualPercentLoss/100\n",
    "    \n",
    "depreciation(2000, 10)"
   ]
  }
 ],
 "metadata": {
  "kernelspec": {
   "display_name": "Python 3.10.7 64-bit",
   "language": "python",
   "name": "python3"
  },
  "language_info": {
   "codemirror_mode": {
    "name": "ipython",
    "version": 3
   },
   "file_extension": ".py",
   "mimetype": "text/x-python",
   "name": "python",
   "nbconvert_exporter": "python",
   "pygments_lexer": "ipython3",
   "version": "3.10.7"
  },
  "orig_nbformat": 4,
  "vscode": {
   "interpreter": {
    "hash": "aee8b7b246df8f9039afb4144a1f6fd8d2ca17a180786b69acc140d282b71a49"
   }
  }
 },
 "nbformat": 4,
 "nbformat_minor": 2
}
