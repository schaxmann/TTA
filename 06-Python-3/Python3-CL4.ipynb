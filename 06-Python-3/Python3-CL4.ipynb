{
 "cells": [
  {
   "cell_type": "code",
   "execution_count": 10,
   "metadata": {},
   "outputs": [
    {
     "name": "stdout",
     "output_type": "stream",
     "text": [
      "Main Menu\n",
      "1 - Find the length of a given b and c\n",
      "2 - Find the length of b given a and c\n",
      "3 - Find the length of c given a and b\n",
      "4 - Exit\n",
      "The length of a is 3.00\n",
      "Main Menu\n",
      "1 - Find the length of a given b and c\n",
      "2 - Find the length of b given a and c\n",
      "3 - Find the length of c given a and b\n",
      "4 - Exit\n",
      "The length of b is 4.00\n",
      "Main Menu\n",
      "1 - Find the length of a given b and c\n",
      "2 - Find the length of b given a and c\n",
      "3 - Find the length of c given a and b\n",
      "4 - Exit\n",
      "The length of c is 5.00\n",
      "Main Menu\n",
      "1 - Find the length of a given b and c\n",
      "2 - Find the length of b given a and c\n",
      "3 - Find the length of c given a and b\n",
      "4 - Exit\n",
      "Thank you for using our Pythagorean calculator\n"
     ]
    }
   ],
   "source": [
    "import math\n",
    "\n",
    "def pythag():\n",
    "    def menu():\n",
    "        print(\"Main Menu\\n1 - Find the length of a given b and c\\n2 - Find the length of b given a and c\\n3 - Find the length of c given a and b\\n4 - Exit\")\n",
    "        menuOption = input('Enter an option:')\n",
    "        if menuOption == \"1\":\n",
    "            b = input('Enter length of b:')\n",
    "            c = input('Enter length of c:')\n",
    "            try:\n",
    "                b = float(b)\n",
    "                c = float(c)\n",
    "            except:\n",
    "                print(\"All measurements must be must be a valid integer or float\")\n",
    "                return menu()\n",
    "            if b <= 0 or c <= 0:\n",
    "                print(\"All measurements must be greater than 0\")\n",
    "                return menu()\n",
    "            print(f'The length of a is {format(math.sqrt(c**2-b**2), \".2f\")}')\n",
    "            return menu()\n",
    "        elif menuOption == \"2\":\n",
    "            a = input('Enter length of a:')\n",
    "            c = input('Enter length of c:')\n",
    "            try:\n",
    "                a = float(a)\n",
    "                c = float(c)\n",
    "            except:\n",
    "                print(\"All measurements must be must be a valid integer or float\")\n",
    "                return menu()\n",
    "            if a <= 0 or c <= 0:\n",
    "                print(\"All measurements must be greater than 0\")\n",
    "                return menu()\n",
    "            print(f'The length of b is {format(math.sqrt(c**2-a**2), \".2f\")}')\n",
    "            return menu()\n",
    "        elif menuOption == \"3\":\n",
    "            a = input('Enter length of a:')\n",
    "            b = input('Enter length of b:')\n",
    "            try:\n",
    "                a = float(a)\n",
    "                b = float(b)\n",
    "            except:\n",
    "                print(\"All measurements must be must be a valid integer or float\")\n",
    "                return(menu)\n",
    "            if a <= 0 or b <= 0:\n",
    "                print(\"All measurements must be greater than 0\")\n",
    "                return menu()\n",
    "            print(f'The length of c is {format(math.sqrt(a**2+b**2), \".2f\")}')\n",
    "            return menu()\n",
    "        elif menuOption == \"4\":\n",
    "            return print(\"Thank you for using our Pythagorean calculator!\")\n",
    "        else:\n",
    "            print (\"You must select a valid option\")\n",
    "            return menu()\n",
    "    menu()\n",
    "        \n",
    "pythag()"
   ]
  }
 ],
 "metadata": {
  "kernelspec": {
   "display_name": "Python 3.10.7 64-bit",
   "language": "python",
   "name": "python3"
  },
  "language_info": {
   "codemirror_mode": {
    "name": "ipython",
    "version": 3
   },
   "file_extension": ".py",
   "mimetype": "text/x-python",
   "name": "python",
   "nbconvert_exporter": "python",
   "pygments_lexer": "ipython3",
   "version": "3.10.7"
  },
  "orig_nbformat": 4,
  "vscode": {
   "interpreter": {
    "hash": "aee8b7b246df8f9039afb4144a1f6fd8d2ca17a180786b69acc140d282b71a49"
   }
  }
 },
 "nbformat": 4,
 "nbformat_minor": 2
}
