{
 "cells": [
  {
   "cell_type": "code",
   "execution_count": 1,
   "metadata": {},
   "outputs": [
    {
     "name": "stdout",
     "output_type": "stream",
     "text": [
      "10 - 3 = 7\n"
     ]
    }
   ],
   "source": [
    "# 1)\n",
    "\n",
    "firstNum = int(input('Enter your first number:'))\n",
    "secondNum = int(input('Enter your second number:'))\n",
    "print(f'{firstNum} - {secondNum} = {firstNum - secondNum}')"
   ]
  },
  {
   "cell_type": "code",
   "execution_count": null,
   "metadata": {},
   "outputs": [],
   "source": [
    "# 2)\n",
    "\n",
    "firstNum = int(input('Enter your first number:'))\n",
    "secondNum = int(input('Enter your second number:'))\n",
    "print(f'{firstNum} x {secondNum} = {firstNum + secondNum}')"
   ]
  },
  {
   "cell_type": "code",
   "execution_count": null,
   "metadata": {},
   "outputs": [],
   "source": [
    "# 2)\n",
    "\n",
    "firstNum = int(input('Enter your first number:'))\n",
    "secondNum = int(input('Enter your second number:'))\n",
    "print(f'{firstNum} x {secondNum} = {firstNum * secondNum}')"
   ]
  },
  {
   "cell_type": "code",
   "execution_count": 11,
   "metadata": {},
   "outputs": [
    {
     "name": "stdout",
     "output_type": "stream",
     "text": [
      "2 / 3 = 0.6666666666666666\n"
     ]
    }
   ],
   "source": [
    "# 3)\n",
    "\n",
    "firstNum = int(input('Enter your first number:'))\n",
    "secondNum = int(input('Enter your second number:'))\n",
    "print(f'{firstNum} / {secondNum} = {firstNum / secondNum}')"
   ]
  },
  {
   "cell_type": "code",
   "execution_count": 6,
   "metadata": {},
   "outputs": [
    {
     "name": "stdout",
     "output_type": "stream",
     "text": [
      "The volume of your cylinder is 3141.593 cm^3\n"
     ]
    }
   ],
   "source": [
    "# Extension\n",
    "\n",
    "import math\n",
    "\n",
    "depth = float(input('Enter the depth of the cylinder in cm'))\n",
    "radius = float(input('Enter the radius of the cylinder in cm'))\n",
    "print(f'The volume of your cylinder is {round(math.pi * (radius ** 2) * depth, 3)} cm^3')"
   ]
  }
 ],
 "metadata": {
  "kernelspec": {
   "display_name": "Python 3.10.7 64-bit",
   "language": "python",
   "name": "python3"
  },
  "language_info": {
   "codemirror_mode": {
    "name": "ipython",
    "version": 3
   },
   "file_extension": ".py",
   "mimetype": "text/x-python",
   "name": "python",
   "nbconvert_exporter": "python",
   "pygments_lexer": "ipython3",
   "version": "3.10.7"
  },
  "orig_nbformat": 4,
  "vscode": {
   "interpreter": {
    "hash": "aee8b7b246df8f9039afb4144a1f6fd8d2ca17a180786b69acc140d282b71a49"
   }
  }
 },
 "nbformat": 4,
 "nbformat_minor": 2
}
