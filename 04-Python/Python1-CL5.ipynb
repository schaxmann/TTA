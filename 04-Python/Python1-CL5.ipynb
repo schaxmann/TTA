{
 "cells": [
  {
   "cell_type": "code",
   "execution_count": 13,
   "metadata": {},
   "outputs": [
    {
     "name": "stdout",
     "output_type": "stream",
     "text": [
      "Original = Hi Mom, I'm on the telly!\n",
      "Replaced = Hi Nan, I'm on the telly!\n",
      "Capitalised = HI MOM, I'M ON THE TELLY!\n",
      "Split = ['Hi Mom', \" I'm on the telly!\"]\n",
      "Sliced = Hi Mom\n"
     ]
    }
   ],
   "source": [
    "# 1)\n",
    "\n",
    "myString = \"Hi Mom, I'm on the telly!\"\n",
    "myReplacedString = myString.replace('Mom', 'Nan')\n",
    "myCapitalisedString = myString.upper()\n",
    "mySplitString = myString.split(',')\n",
    "mySlicedString = myString[0:6]\n",
    "print(f'Original = {myString}\\nReplaced = {myReplacedString}\\nCapitalised = {myCapitalisedString}\\nSplit = {mySplitString}\\nSliced = {mySlicedString}')"
   ]
  }
 ],
 "metadata": {
  "kernelspec": {
   "display_name": "Python 3.10.7 64-bit",
   "language": "python",
   "name": "python3"
  },
  "language_info": {
   "codemirror_mode": {
    "name": "ipython",
    "version": 3
   },
   "file_extension": ".py",
   "mimetype": "text/x-python",
   "name": "python",
   "nbconvert_exporter": "python",
   "pygments_lexer": "ipython3",
   "version": "3.10.7"
  },
  "orig_nbformat": 4,
  "vscode": {
   "interpreter": {
    "hash": "aee8b7b246df8f9039afb4144a1f6fd8d2ca17a180786b69acc140d282b71a49"
   }
  }
 },
 "nbformat": 4,
 "nbformat_minor": 2
}
