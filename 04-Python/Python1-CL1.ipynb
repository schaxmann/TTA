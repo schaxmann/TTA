{
 "cells": [
  {
   "cell_type": "code",
   "execution_count": 2,
   "metadata": {},
   "outputs": [
    {
     "name": "stdout",
     "output_type": "stream",
     "text": [
      "Your favourite meal is soup, steak and cake with a glass of cola.\n"
     ]
    }
   ],
   "source": [
    "# 1)\n",
    "\n",
    "starter = input('Enter your favourite starter:')\n",
    "main = input('Enter your favourite main course:')\n",
    "dessert = input('Enter your favourite dessert:')\n",
    "drink = input('Enter your favourite drink:')\n",
    "print(f'Your favourite meal is {starter}, {main} and {dessert} with a glass of {drink}.')"
   ]
  },
  {
   "cell_type": "code",
   "execution_count": 2,
   "metadata": {},
   "outputs": [
    {
     "name": "stdout",
     "output_type": "stream",
     "text": [
      "Each diner should pay £10.10 each.\n"
     ]
    }
   ],
   "source": [
    "# Extension\n",
    "\n",
    "subTotal = float(input('Enter the price of the bill in pounds'))\n",
    "diners = int(input('Enter the number of diners'))\n",
    "print(f'Each diner should pay £{format(subTotal/diners,\".2f\")} each.')"
   ]
  }
 ],
 "metadata": {
  "kernelspec": {
   "display_name": "Python 3.10.7 64-bit",
   "language": "python",
   "name": "python3"
  },
  "language_info": {
   "codemirror_mode": {
    "name": "ipython",
    "version": 3
   },
   "file_extension": ".py",
   "mimetype": "text/x-python",
   "name": "python",
   "nbconvert_exporter": "python",
   "pygments_lexer": "ipython3",
   "version": "3.10.7"
  },
  "orig_nbformat": 4,
  "vscode": {
   "interpreter": {
    "hash": "aee8b7b246df8f9039afb4144a1f6fd8d2ca17a180786b69acc140d282b71a49"
   }
  }
 },
 "nbformat": 4,
 "nbformat_minor": 2
}
